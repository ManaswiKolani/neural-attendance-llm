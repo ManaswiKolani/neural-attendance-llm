{
 "cells": [
  {
   "cell_type": "code",
   "execution_count": 1,
   "id": "5ec8ea91",
   "metadata": {},
   "outputs": [],
   "source": [
    "import cv2\n",
    "import os\n",
    "import random\n",
    "import numpy as np\n",
    "from matplotlib import pyplot as plt"
   ]
  },
  {
   "cell_type": "code",
   "execution_count": 4,
   "id": "d386cd5a",
   "metadata": {},
   "outputs": [],
   "source": [
    "import tensorflow as tf\n",
    "from tensorflow.keras.models import Model\n",
    "from tensorflow.keras.layers import Layer, Conv2D, Dense, MaxPooling2D, Input, Flatten\n"
   ]
  },
  {
   "cell_type": "code",
   "execution_count": 6,
   "id": "88a65f34",
   "metadata": {},
   "outputs": [],
   "source": [
    "ANC_PATH = os.path.join('data', 'anchor')\n",
    "POS_PATH  = os.path.join('data', 'positive')\n",
    "NEG_PATH   = os.path.join('data', 'negative')"
   ]
  },
  {
   "cell_type": "code",
   "execution_count": 7,
   "id": "ca4b5a04",
   "metadata": {},
   "outputs": [],
   "source": [
    "os.makedirs(POS_PATH)\n",
    "os.makedirs(NEG_PATH)\n",
    "os.makedirs(ANC_PATH)"
   ]
  },
  {
   "cell_type": "code",
   "execution_count": null,
   "id": "5a771978",
   "metadata": {},
   "outputs": [],
   "source": []
  }
 ],
 "metadata": {
  "kernelspec": {
   "display_name": "venv",
   "language": "python",
   "name": "python3"
  },
  "language_info": {
   "codemirror_mode": {
    "name": "ipython",
    "version": 3
   },
   "file_extension": ".py",
   "mimetype": "text/x-python",
   "name": "python",
   "nbconvert_exporter": "python",
   "pygments_lexer": "ipython3",
   "version": "3.9.0"
  }
 },
 "nbformat": 4,
 "nbformat_minor": 5
}
